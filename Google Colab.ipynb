{
  "nbformat": 4,
  "nbformat_minor": 0,
  "metadata": {
    "colab": {
      "name": "Untitled1.ipynb",
      "provenance": [],
      "authorship_tag": "ABX9TyOgrseR1Nmmpgni+tMyIViS",
      "include_colab_link": true
    },
    "kernelspec": {
      "name": "python3",
      "display_name": "Python 3"
    },
    "language_info": {
      "name": "python"
    }
  },
  "cells": [
    {
      "cell_type": "markdown",
      "metadata": {
        "id": "view-in-github",
        "colab_type": "text"
      },
      "source": [
        "<a href=\"https://colab.research.google.com/github/VoXaN24/GColabandJypterforOpenDirectoryDownloader/blob/main/Google%20Colab.ipynb\" target=\"_parent\"><img src=\"https://colab.research.google.com/assets/colab-badge.svg\" alt=\"Open In Colab\"/></a>"
      ]
    },
    {
      "cell_type": "markdown",
      "source": [
        ""
      ],
      "metadata": {
        "id": "vD5K1MaNO84D"
      }
    },
    {
      "cell_type": "markdown",
      "source": [
        "**The KoalaBear84's\n",
        "OpenDirectoryDownloader into Google Colab**\n",
        "\n",
        "\n",
        "> You have a low connection ?\n",
        "\n",
        "> You have a low-end PC ?\n",
        "\n",
        "But you would to index your favorite OpenDirectory ?\n",
        "\n",
        "Now you can do it thank's to the Google Cloud !\n",
        "\n"
      ],
      "metadata": {
        "id": "MO_Qpz9AO-oM"
      }
    },
    {
      "cell_type": "code",
      "execution_count": null,
      "metadata": {
        "id": "G1JKchFqO7wO"
      },
      "outputs": [],
      "source": [
        "#Need to run 1 time\n",
        "!wget https://github.com/KoalaBear84/OpenDirectoryDownloader/releases/download/v2.2.0.9/OpenDirectoryDownloader-2.2.0.9-linux-x64-self-contained.zip\n",
        "!unzip OpenDirectoryDownloader-2.2.0.9-linux-x64-self-contained.zip"
      ]
    },
    {
      "cell_type": "code",
      "source": [
        "!read url\n",
        "!./OpenDirectoryDownloader -l -s --url=\"$url\""
      ],
      "metadata": {
        "id": "ymI-CSMCQ9sb"
      },
      "execution_count": null,
      "outputs": []
    }
  ]
}