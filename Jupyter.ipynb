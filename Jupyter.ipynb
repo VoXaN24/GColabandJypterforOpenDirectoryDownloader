{
 "cells": [
  {
   "cell_type": "markdown",
   "id": "b919d47a",
   "metadata": {},
   "source": [
    "**The KoalaBear84's\n",
    "OpenDirectoryDownloader into Google Colab**\n",
    "\n",
    "You have a low connection ?\n",
    "You have a low-end PC ?\n",
    "\n",
    "But you would to index your favorite OpenDirectory ?\n",
    "Now you can do it thank's to Jupyter !"
   ]
  },
  {
   "cell_type": "code",
   "execution_count": 1,
   "id": "9361819c",
   "metadata": {},
   "outputs": [
   ],
   "source": [
    "#Run the one time at start only\n",
    "!wget https://github.com/KoalaBear84/OpenDirectoryDownloader/releases/download/v2.2.0.9/OpenDirectoryDownloader-2.2.0.9-linux-x64-self-contained.zip\n",
    "!unzip OpenDirectoryDownloader-2.2.0.9-linux-x64-self-contained.zip"
   ]
  },
  {
   "cell_type": "code",
   "execution_count": 3,
   "id": "0dea4e25",
   "metadata": {},
   "outputs": [
   ],
   "source": [
   ]
  },
  {
   "cell_type": "code",
   "execution_count": null,
   "id": "ff7a51cf",
   "metadata": {},
   "outputs": [],
   "source": []
  }
 ],
 "metadata": {
  "kernelspec": {
   "display_name": "Python 3",
   "language": "python",
   "name": "python3"
  },
  "language_info": {
   "codemirror_mode": {
    "name": "ipython",
    "version": 3
   },
   "file_extension": ".py",
   "mimetype": "text/x-python",
   "name": "python",
   "nbconvert_exporter": "python",
   "pygments_lexer": "ipython3",
   "version": "3.6.13"
  }
 },
 "nbformat": 4,
 "nbformat_minor": 5
}
